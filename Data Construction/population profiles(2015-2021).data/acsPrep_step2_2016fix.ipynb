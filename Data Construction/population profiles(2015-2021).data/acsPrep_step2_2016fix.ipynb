{
  "nbformat": 4,
  "nbformat_minor": 0,
  "metadata": {
    "colab": {
      "provenance": []
    },
    "kernelspec": {
      "name": "python3",
      "display_name": "Python 3"
    },
    "language_info": {
      "name": "python"
    }
  },
  "cells": [
    {
      "cell_type": "code",
      "execution_count": null,
      "metadata": {
        "id": "rDP4z3zAaaHA"
      },
      "outputs": [],
      "source": [
        "import pandas as pd"
      ]
    },
    {
      "cell_type": "code",
      "source": [
        "acs2015 = pd.read_csv(\"acs2015_postPrep.csv\")\n",
        "acs2016 = pd.read_csv(\"acs2016_postPrep.csv\")"
      ],
      "metadata": {
        "id": "hdTsZMt9ajcS"
      },
      "execution_count": null,
      "outputs": []
    },
    {
      "cell_type": "code",
      "source": [
        "acs2016.columns = acs2015.columns"
      ],
      "metadata": {
        "id": "W8BYvAQ2as4v"
      },
      "execution_count": null,
      "outputs": []
    },
    {
      "cell_type": "code",
      "source": [
        "#acs2016\n",
        "acs2016.to_csv(\"acs2016_postPrep_step2.csv\")"
      ],
      "metadata": {
        "id": "SPCKeg6LauGe"
      },
      "execution_count": null,
      "outputs": []
    },
    {
      "cell_type": "code",
      "source": [],
      "metadata": {
        "id": "fWIEplOha2sC"
      },
      "execution_count": null,
      "outputs": []
    }
  ]
}